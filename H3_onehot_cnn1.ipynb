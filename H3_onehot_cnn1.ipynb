{
  "nbformat": 4,
  "nbformat_minor": 0,
  "metadata": {
    "colab": {
      "name": "H3_onehot_cnn1.ipynb",
      "provenance": []
    },
    "kernelspec": {
      "name": "python3",
      "display_name": "Python 3"
    },
    "language_info": {
      "name": "python"
    }
  },
  "cells": [
    {
      "cell_type": "code",
      "metadata": {
        "id": "Ur2RIvVpNHlB"
      },
      "source": [
        "from google.colab import files\n",
        "import numpy as np\n",
        "import pandas as pd\n",
        "import matplotlib.pyplot as plt\n",
        "import re\n",
        "from sklearn.model_selection import train_test_split"
      ],
      "execution_count": 1,
      "outputs": []
    },
    {
      "cell_type": "code",
      "metadata": {
        "colab": {
          "resources": {
            "http://localhost:8080/nbextensions/google.colab/files.js": {
              "data": "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",
              "ok": true,
              "headers": [
                [
                  "content-type",
                  "application/javascript"
                ]
              ],
              "status": 200,
              "status_text": "OK"
            }
          },
          "base_uri": "https://localhost:8080/",
          "height": 187
        },
        "id": "_xYeOXQWOlW5",
        "outputId": "a5c6fa31-5f8b-4b95-e7bc-6c162777a3da"
      },
      "source": [
        "uploaded = files.upload()\n",
        "data = pd.read_csv('H3.txt', sep = '\\n')\n",
        "print(data.head())"
      ],
      "execution_count": 2,
      "outputs": [
        {
          "output_type": "display_data",
          "data": {
            "text/html": [
              "\n",
              "     <input type=\"file\" id=\"files-67bcdacc-0afc-491f-a0f8-a3208f21e80a\" name=\"files[]\" multiple disabled\n",
              "        style=\"border:none\" />\n",
              "     <output id=\"result-67bcdacc-0afc-491f-a0f8-a3208f21e80a\">\n",
              "      Upload widget is only available when the cell has been executed in the\n",
              "      current browser session. Please rerun this cell to enable.\n",
              "      </output>\n",
              "      <script src=\"/nbextensions/google.colab/files.js\"></script> "
            ],
            "text/plain": [
              "<IPython.core.display.HTML object>"
            ]
          },
          "metadata": {
            "tags": []
          }
        },
        {
          "output_type": "stream",
          "text": [
            "Saving H3.txt to H3.txt\n",
            "                                            all_data\n",
            "0                                     >iTELL-Chr1_61\n",
            "1  CACACCACACCCACACACCCACACACCACACCACACACCACACCAC...\n",
            "2                                                  0\n",
            "3                                   >iYAL067W-A_5085\n",
            "4  AATTTTTATAGGTCGACCCTTCTGTCGCTTACTGGGTTGATTATCT...\n"
          ],
          "name": "stdout"
        }
      ]
    },
    {
      "cell_type": "code",
      "metadata": {
        "id": "7WdRdMI0gU8g"
      },
      "source": [
        "all=data[\"all_data\"].tolist()\n",
        "cls=[]\n",
        "sequence=[]\n",
        "label=[]"
      ],
      "execution_count": 3,
      "outputs": []
    },
    {
      "cell_type": "code",
      "metadata": {
        "colab": {
          "base_uri": "https://localhost:8080/"
        },
        "id": "3GXa60REgZrC",
        "outputId": "118de749-5255-4e4a-fcaa-15970b6b4bd8"
      },
      "source": [
        "length = len(all)\n",
        "for i in range(length):\n",
        "   if (i%3)==0:\n",
        "             cls.append(all[i])\n",
        "   else:\n",
        "      if(all[i]== \"0\" or all[i]==\"1\"):\n",
        "        label.append(all[i])\n",
        "      else:\n",
        "         sequence.append(all[i])\n",
        "\n",
        "print(len(cls))\n",
        "print(len(label))\n",
        "print(len(sequence))"
      ],
      "execution_count": 4,
      "outputs": [
        {
          "output_type": "stream",
          "text": [
            "14965\n",
            "14965\n",
            "14965\n"
          ],
          "name": "stdout"
        }
      ]
    },
    {
      "cell_type": "code",
      "metadata": {
        "colab": {
          "base_uri": "https://localhost:8080/",
          "height": 363
        },
        "id": "tkOQxz7Yggvy",
        "outputId": "a06fadf2-0ece-44d3-b7ca-600e2c7613cb"
      },
      "source": [
        "df = pd.DataFrame(list(zip(cls, label, sequence)),\n",
        "               columns =['classification' , 'label', 'sequence'])\n",
        "df.head(10)"
      ],
      "execution_count": 5,
      "outputs": [
        {
          "output_type": "execute_result",
          "data": {
            "text/html": [
              "<div>\n",
              "<style scoped>\n",
              "    .dataframe tbody tr th:only-of-type {\n",
              "        vertical-align: middle;\n",
              "    }\n",
              "\n",
              "    .dataframe tbody tr th {\n",
              "        vertical-align: top;\n",
              "    }\n",
              "\n",
              "    .dataframe thead th {\n",
              "        text-align: right;\n",
              "    }\n",
              "</style>\n",
              "<table border=\"1\" class=\"dataframe\">\n",
              "  <thead>\n",
              "    <tr style=\"text-align: right;\">\n",
              "      <th></th>\n",
              "      <th>classification</th>\n",
              "      <th>label</th>\n",
              "      <th>sequence</th>\n",
              "    </tr>\n",
              "  </thead>\n",
              "  <tbody>\n",
              "    <tr>\n",
              "      <th>0</th>\n",
              "      <td>&gt;iTELL-Chr1_61</td>\n",
              "      <td>0</td>\n",
              "      <td>CACACCACACCCACACACCCACACACCACACCACACACCACACCAC...</td>\n",
              "    </tr>\n",
              "    <tr>\n",
              "      <th>1</th>\n",
              "      <td>&gt;iYAL067W-A_5085</td>\n",
              "      <td>0</td>\n",
              "      <td>AATTTTTATAGGTCGACCCTTCTGTCGCTTACTGGGTTGATTATCT...</td>\n",
              "    </tr>\n",
              "    <tr>\n",
              "      <th>2</th>\n",
              "      <td>&gt;iYAL067W-A_6786</td>\n",
              "      <td>0</td>\n",
              "      <td>AATTATATTTCCATCAGCTCAATACCGCAGTACTTTGAAACCTGAT...</td>\n",
              "    </tr>\n",
              "    <tr>\n",
              "      <th>3</th>\n",
              "      <td>&gt;iYAL067W-A_7060</td>\n",
              "      <td>0</td>\n",
              "      <td>AACAATAGTGGGTATGAGTAAAGATATATAGATCGATATTTTGAAT...</td>\n",
              "    </tr>\n",
              "    <tr>\n",
              "      <th>4</th>\n",
              "      <td>&gt;YAL067C_SEO1_8061</td>\n",
              "      <td>1</td>\n",
              "      <td>CAAAGATTTCAACCATAGTAGGTATGCCCCAGATGAAACATTACTG...</td>\n",
              "    </tr>\n",
              "    <tr>\n",
              "      <th>5</th>\n",
              "      <td>&gt;YAL067C_SEO1_8340</td>\n",
              "      <td>1</td>\n",
              "      <td>CACAATAGCGTCAATAATAAAGTTCCATCTCCATCCCTCTAAACCA...</td>\n",
              "    </tr>\n",
              "    <tr>\n",
              "      <th>6</th>\n",
              "      <td>&gt;iYAL067C_9509</td>\n",
              "      <td>1</td>\n",
              "      <td>GTTTTTTTCCAGTGACACAATCTTTACCATTACACAGTTTTTACTA...</td>\n",
              "    </tr>\n",
              "    <tr>\n",
              "      <th>7</th>\n",
              "      <td>&gt;iYAL067C_10442</td>\n",
              "      <td>0</td>\n",
              "      <td>CAGAAACATAAAATTATATCACTTTATTTCATATGGTTTCATGCTT...</td>\n",
              "    </tr>\n",
              "    <tr>\n",
              "      <th>8</th>\n",
              "      <td>&gt;YAL065C_YAL065C_11570</td>\n",
              "      <td>1</td>\n",
              "      <td>AGATACCTCGAAACAAACTCTATGTAAACACTTATTTTATTGTGGT...</td>\n",
              "    </tr>\n",
              "    <tr>\n",
              "      <th>9</th>\n",
              "      <td>&gt;iYAL064W-B_13286</td>\n",
              "      <td>1</td>\n",
              "      <td>ATGACTGGAGAAGAAGTGACTAGAGAAGAAGTGACTGAGGAAGAAA...</td>\n",
              "    </tr>\n",
              "  </tbody>\n",
              "</table>\n",
              "</div>"
            ],
            "text/plain": [
              "           classification  ...                                           sequence\n",
              "0          >iTELL-Chr1_61  ...  CACACCACACCCACACACCCACACACCACACCACACACCACACCAC...\n",
              "1        >iYAL067W-A_5085  ...  AATTTTTATAGGTCGACCCTTCTGTCGCTTACTGGGTTGATTATCT...\n",
              "2        >iYAL067W-A_6786  ...  AATTATATTTCCATCAGCTCAATACCGCAGTACTTTGAAACCTGAT...\n",
              "3        >iYAL067W-A_7060  ...  AACAATAGTGGGTATGAGTAAAGATATATAGATCGATATTTTGAAT...\n",
              "4      >YAL067C_SEO1_8061  ...  CAAAGATTTCAACCATAGTAGGTATGCCCCAGATGAAACATTACTG...\n",
              "5      >YAL067C_SEO1_8340  ...  CACAATAGCGTCAATAATAAAGTTCCATCTCCATCCCTCTAAACCA...\n",
              "6          >iYAL067C_9509  ...  GTTTTTTTCCAGTGACACAATCTTTACCATTACACAGTTTTTACTA...\n",
              "7         >iYAL067C_10442  ...  CAGAAACATAAAATTATATCACTTTATTTCATATGGTTTCATGCTT...\n",
              "8  >YAL065C_YAL065C_11570  ...  AGATACCTCGAAACAAACTCTATGTAAACACTTATTTTATTGTGGT...\n",
              "9       >iYAL064W-B_13286  ...  ATGACTGGAGAAGAAGTGACTAGAGAAGAAGTGACTGAGGAAGAAA...\n",
              "\n",
              "[10 rows x 3 columns]"
            ]
          },
          "metadata": {
            "tags": []
          },
          "execution_count": 5
        }
      ]
    },
    {
      "cell_type": "code",
      "metadata": {
        "colab": {
          "base_uri": "https://localhost:8080/"
        },
        "id": "ISYYq4u97T3T",
        "outputId": "fec61662-1c2d-479c-a8e6-917040d273a2"
      },
      "source": [
        "labels = list(df.loc[:,'label'])\n",
        "print(type(labels))"
      ],
      "execution_count": 21,
      "outputs": [
        {
          "output_type": "stream",
          "text": [
            "<class 'list'>\n"
          ],
          "name": "stdout"
        }
      ]
    },
    {
      "cell_type": "code",
      "metadata": {
        "colab": {
          "base_uri": "https://localhost:8080/"
        },
        "id": "KQeyQOQU7TK0",
        "outputId": "2a56ee4b-2739-42e2-cdfa-af3b421b19d2"
      },
      "source": [
        "sequences = list(df.loc[:, 'sequence'])\n",
        "print(type(sequences))\n",
        "seqqq=sequences"
      ],
      "execution_count": 22,
      "outputs": [
        {
          "output_type": "stream",
          "text": [
            "<class 'list'>\n"
          ],
          "name": "stdout"
        }
      ]
    },
    {
      "cell_type": "code",
      "metadata": {
        "id": "XsBuwzu5wHKU"
      },
      "source": [
        "seqs = df.sequence.values\n"
      ],
      "execution_count": 23,
      "outputs": []
    },
    {
      "cell_type": "code",
      "metadata": {
        "id": "br0cRQCizNEm"
      },
      "source": [
        "from sklearn.preprocessing import LabelEncoder, OneHotEncoder\n",
        "\n",
        "# The LabelEncoder encodes a sequence of bases as a sequence of integers.\n",
        "integer_encoder = LabelEncoder()  \n",
        "# The OneHotEncoder converts an array of integers to a sparse matrix where \n",
        "# each row corresponds to one possible value of each feature.\n",
        "one_hot_encoder = OneHotEncoder(categories='auto')   \n",
        "input_features = []\n",
        "\n",
        "for sequence in seqqq:\n",
        " \n",
        "  integer_encoded = integer_encoder.fit_transform(list(sequence))\n",
        "  integer_encoded = np.array(integer_encoded).reshape(-1, 1)\n",
        "  one_hot_encoded = one_hot_encoder.fit_transform(integer_encoded)\n",
        "  input_features.append(one_hot_encoded.toarray())\n"
      ],
      "execution_count": 24,
      "outputs": []
    },
    {
      "cell_type": "code",
      "metadata": {
        "id": "LcRFQz0uE0cq"
      },
      "source": [
        "from keras.preprocessing.sequence import pad_sequences\n",
        "from keras.preprocessing import text, sequence\n",
        "max_length=500\n",
        "input_features = sequence.pad_sequences(input_features, maxlen=max_length)\n"
      ],
      "execution_count": 25,
      "outputs": []
    },
    {
      "cell_type": "code",
      "metadata": {
        "id": "0pvlP_dEzB0t"
      },
      "source": [
        "input_features = input_features.astype('float64')"
      ],
      "execution_count": 26,
      "outputs": []
    },
    {
      "cell_type": "code",
      "metadata": {
        "id": "IJzCTnxFzHtf"
      },
      "source": [
        "#input_features= input_features.reshape(14965,2000)"
      ],
      "execution_count": 12,
      "outputs": []
    },
    {
      "cell_type": "code",
      "metadata": {
        "id": "3ctg12tfUedp",
        "colab": {
          "base_uri": "https://localhost:8080/"
        },
        "outputId": "2d9e83de-f68b-4e4a-ce79-bd6bec2c62cf"
      },
      "source": [
        "np.set_printoptions(threshold=40)\n",
        "input_features = np.stack(input_features)\n",
        "print(\"Example sequence\\n-----------------------\")\n",
        "print('DNA Sequence #1:\\n',sequences[0][:10],'...',sequences[0][-10:])\n",
        "print('One hot encoding of Sequence #1:\\n',input_features[0].T)"
      ],
      "execution_count": 27,
      "outputs": [
        {
          "output_type": "stream",
          "text": [
            "Example sequence\n",
            "-----------------------\n",
            "DNA Sequence #1:\n",
            " CACACCACAC ... GTTCTTCTAC\n",
            "One hot encoding of Sequence #1:\n",
            " [[0. 0. 0. ... 0. 1. 0.]\n",
            " [0. 0. 0. ... 0. 0. 1.]\n",
            " [0. 0. 0. ... 0. 0. 0.]\n",
            " [0. 0. 0. ... 1. 0. 0.]]\n"
          ],
          "name": "stdout"
        }
      ]
    },
    {
      "cell_type": "code",
      "metadata": {
        "colab": {
          "base_uri": "https://localhost:8080/"
        },
        "id": "5z4bOF0KtDwU",
        "outputId": "8a8a0478-54fd-4fdb-af46-dbfdf846f1b5"
      },
      "source": [
        "labels = list(filter(None, label))  # removes empty sequences\n",
        "\n",
        "one_hot_encoder = OneHotEncoder(categories='auto')\n",
        "labels = np.array(labels).reshape(-1, 1)\n",
        "input_labels = one_hot_encoder.fit_transform(labels).toarray()\n",
        "\n",
        "print('Labels:\\n',labels.T)\n",
        "print('One-hot encoded labels:\\n',input_labels.T)"
      ],
      "execution_count": 28,
      "outputs": [
        {
          "output_type": "stream",
          "text": [
            "Labels:\n",
            " [['0' '0' '0' ... '1' '1' '1']]\n",
            "One-hot encoded labels:\n",
            " [[1. 1. 1. ... 0. 0. 0.]\n",
            " [0. 0. 0. ... 1. 1. 1.]]\n"
          ],
          "name": "stdout"
        }
      ]
    },
    {
      "cell_type": "code",
      "metadata": {
        "id": "Cu9YIttB5AF6"
      },
      "source": [
        "from sklearn.model_selection import train_test_split\n",
        "X_train, X_test, y_train, y_test = train_test_split(input_features, input_labels, test_size=.25, random_state=42)\n"
      ],
      "execution_count": 29,
      "outputs": []
    },
    {
      "cell_type": "code",
      "metadata": {
        "colab": {
          "base_uri": "https://localhost:8080/"
        },
        "id": "a37gMT8b5GIj",
        "outputId": "c433d36d-df88-43bd-e70f-9e2319bd4a0d"
      },
      "source": [
        "X_train.shape"
      ],
      "execution_count": 30,
      "outputs": [
        {
          "output_type": "execute_result",
          "data": {
            "text/plain": [
              "(11223, 500, 4)"
            ]
          },
          "metadata": {
            "tags": []
          },
          "execution_count": 30
        }
      ]
    },
    {
      "cell_type": "code",
      "metadata": {
        "colab": {
          "base_uri": "https://localhost:8080/"
        },
        "id": "csFgBAPv5LLy",
        "outputId": "043a63c3-c2ae-442c-9635-3355b5aabec6"
      },
      "source": [
        "y_train.shape"
      ],
      "execution_count": 31,
      "outputs": [
        {
          "output_type": "execute_result",
          "data": {
            "text/plain": [
              "(11223, 2)"
            ]
          },
          "metadata": {
            "tags": []
          },
          "execution_count": 31
        }
      ]
    },
    {
      "cell_type": "code",
      "metadata": {
        "id": "oiRJGpCYVeKN",
        "colab": {
          "base_uri": "https://localhost:8080/"
        },
        "outputId": "f8340858-6ad2-42a7-fc66-dbd0750f467c"
      },
      "source": [
        "\n",
        "from tensorflow.keras.layers import Conv1D, Dense, MaxPooling1D, Flatten\n",
        "from tensorflow.keras.models import Sequential\n",
        "\n",
        "model = Sequential()\n",
        "model.add(Conv1D(filters=32, kernel_size=12, \n",
        "                 input_shape=(X_train.shape[1], 4)))\n",
        "model.add(MaxPooling1D(pool_size=4))\n",
        "model.add(Flatten())\n",
        "model.add(Dense(16, activation='relu'))\n",
        "model.add(Dense(2, activation='softmax'))\n",
        "\n",
        "model.compile(loss='binary_crossentropy', optimizer='adam', \n",
        "              metrics=['binary_accuracy'])\n",
        "model.summary()"
      ],
      "execution_count": 53,
      "outputs": [
        {
          "output_type": "stream",
          "text": [
            "Model: \"sequential_6\"\n",
            "_________________________________________________________________\n",
            "Layer (type)                 Output Shape              Param #   \n",
            "=================================================================\n",
            "conv1d_6 (Conv1D)            (None, 489, 32)           1568      \n",
            "_________________________________________________________________\n",
            "max_pooling1d_6 (MaxPooling1 (None, 122, 32)           0         \n",
            "_________________________________________________________________\n",
            "flatten_5 (Flatten)          (None, 3904)              0         \n",
            "_________________________________________________________________\n",
            "dense_10 (Dense)             (None, 16)                62480     \n",
            "_________________________________________________________________\n",
            "dense_11 (Dense)             (None, 2)                 34        \n",
            "=================================================================\n",
            "Total params: 64,082\n",
            "Trainable params: 64,082\n",
            "Non-trainable params: 0\n",
            "_________________________________________________________________\n"
          ],
          "name": "stdout"
        }
      ]
    },
    {
      "cell_type": "code",
      "metadata": {
        "colab": {
          "base_uri": "https://localhost:8080/"
        },
        "id": "xES5C6A6oIBP",
        "outputId": "1710cb0f-38ba-460f-c106-cbaa0c6ff107"
      },
      "source": [
        "history = model.fit(X_train, y_train, validation_data=(X_test, y_test), epochs=15, batch_size=128)"
      ],
      "execution_count": 57,
      "outputs": [
        {
          "output_type": "stream",
          "text": [
            "Epoch 1/15\n",
            "88/88 [==============================] - 4s 46ms/step - loss: 0.0689 - binary_accuracy: 0.9882 - val_loss: 0.5919 - val_binary_accuracy: 0.8004\n",
            "Epoch 2/15\n",
            "88/88 [==============================] - 4s 46ms/step - loss: 0.0520 - binary_accuracy: 0.9922 - val_loss: 0.6151 - val_binary_accuracy: 0.8014\n",
            "Epoch 3/15\n",
            "88/88 [==============================] - 4s 46ms/step - loss: 0.0397 - binary_accuracy: 0.9948 - val_loss: 0.6519 - val_binary_accuracy: 0.8030\n",
            "Epoch 4/15\n",
            "88/88 [==============================] - 4s 46ms/step - loss: 0.0316 - binary_accuracy: 0.9962 - val_loss: 0.6862 - val_binary_accuracy: 0.8017\n",
            "Epoch 5/15\n",
            "88/88 [==============================] - 4s 46ms/step - loss: 0.0248 - binary_accuracy: 0.9976 - val_loss: 0.7137 - val_binary_accuracy: 0.7998\n",
            "Epoch 6/15\n",
            "88/88 [==============================] - 4s 46ms/step - loss: 0.0201 - binary_accuracy: 0.9979 - val_loss: 0.7373 - val_binary_accuracy: 0.8022\n",
            "Epoch 7/15\n",
            "88/88 [==============================] - 4s 46ms/step - loss: 0.0167 - binary_accuracy: 0.9984 - val_loss: 0.7711 - val_binary_accuracy: 0.7985\n",
            "Epoch 8/15\n",
            "88/88 [==============================] - 4s 46ms/step - loss: 0.0136 - binary_accuracy: 0.9987 - val_loss: 0.7968 - val_binary_accuracy: 0.7996\n",
            "Epoch 9/15\n",
            "88/88 [==============================] - 4s 46ms/step - loss: 0.0112 - binary_accuracy: 0.9988 - val_loss: 0.8199 - val_binary_accuracy: 0.7961\n",
            "Epoch 10/15\n",
            "88/88 [==============================] - 4s 46ms/step - loss: 0.0095 - binary_accuracy: 0.9988 - val_loss: 0.8441 - val_binary_accuracy: 0.7966\n",
            "Epoch 11/15\n",
            "88/88 [==============================] - 4s 46ms/step - loss: 0.0079 - binary_accuracy: 0.9988 - val_loss: 0.8613 - val_binary_accuracy: 0.7980\n",
            "Epoch 12/15\n",
            "88/88 [==============================] - 4s 46ms/step - loss: 0.0066 - binary_accuracy: 0.9988 - val_loss: 0.8878 - val_binary_accuracy: 0.7977\n",
            "Epoch 13/15\n",
            "88/88 [==============================] - 4s 46ms/step - loss: 0.0057 - binary_accuracy: 0.9988 - val_loss: 0.8979 - val_binary_accuracy: 0.7985\n",
            "Epoch 14/15\n",
            "88/88 [==============================] - 4s 46ms/step - loss: 0.0049 - binary_accuracy: 0.9988 - val_loss: 0.9280 - val_binary_accuracy: 0.7985\n",
            "Epoch 15/15\n",
            "88/88 [==============================] - 4s 46ms/step - loss: 0.0043 - binary_accuracy: 0.9988 - val_loss: 0.9407 - val_binary_accuracy: 0.7972\n"
          ],
          "name": "stdout"
        }
      ]
    },
    {
      "cell_type": "code",
      "metadata": {
        "colab": {
          "base_uri": "https://localhost:8080/"
        },
        "id": "FH05U2kxqC4X",
        "outputId": "82582331-f20f-4073-f9dc-d0ee0b3e3d2e"
      },
      "source": [
        "\n",
        "from sklearn.metrics import accuracy_score\n",
        "\n",
        "\n",
        "train_pred = model.predict(X_train)\n",
        "test_pred = model.predict(X_test)\n",
        "print(\"train-acc = \" + str(accuracy_score(np.argmax(y_train, axis=1), np.argmax(train_pred, axis=1))))\n",
        "print(\"test-acc = \" + str(accuracy_score(np.argmax(y_test, axis=1), np.argmax(test_pred, axis=1))))\n"
      ],
      "execution_count": 60,
      "outputs": [
        {
          "output_type": "stream",
          "text": [
            "train-acc = 0.9988416644390983\n",
            "test-acc = 0.7971672902191341\n"
          ],
          "name": "stdout"
        }
      ]
    },
    {
      "cell_type": "code",
      "metadata": {
        "colab": {
          "base_uri": "https://localhost:8080/",
          "height": 569
        },
        "id": "JVvrlrKEC7US",
        "outputId": "3f36fbc5-b3e5-4a87-ddfa-b537351a22c3"
      },
      "source": [
        "from sklearn.metrics import confusion_matrix\n",
        "import itertools\n",
        "\n",
        "plt.figure(figsize=(10,8))\n",
        "\n",
        "predicted_labels = model.predict(X_test)\n",
        "cm = confusion_matrix(np.argmax(y_test, axis=1), \n",
        "                      np.argmax(predicted_labels, axis=1))\n",
        "print('Confusion matrix:\\n',cm)\n",
        "\n",
        "cm = cm.astype('float') / cm.sum(axis = 1)[:, np.newaxis]\n",
        "\n",
        "plt.imshow(cm, cmap=plt.cm.Blues)\n",
        "plt.title('Normalized confusion matrix')\n",
        "plt.colorbar()\n",
        "plt.xlabel('True label')\n",
        "plt.ylabel('Predicted label')\n",
        "plt.xticks([0, 1]); plt.yticks([0, 1])\n",
        "plt.grid('off')\n",
        "for i, j in itertools.product(range(cm.shape[0]), range(cm.shape[1])):\n",
        "    plt.text(j, i, format(cm[i, j], '.2f'),\n",
        "             horizontalalignment='center',\n",
        "             color='white' if cm[i, j] > 0.5 else 'black')\n",
        "plt.show()"
      ],
      "execution_count": 61,
      "outputs": [
        {
          "output_type": "stream",
          "text": [
            "Confusion matrix:\n",
            " [[1407  419]\n",
            " [ 340 1576]]\n"
          ],
          "name": "stdout"
        },
        {
          "output_type": "display_data",
          "data": {
            "image/png": "[encoded data removed]",
            "text/plain": [
              "<Figure size 720x576 with 2 Axes>"
            ]
          },
          "metadata": {
            "tags": [],
            "needs_background": "light"
          }
        }
      ]
    },
    {
      "cell_type": "code",
      "metadata": {
        "id": "KNUieOqeEQwp"
      },
      "source": [
        "import numpy as np\n",
        "import pandas as pd\n",
        "import matplotlib.pyplot as plt\n"
      ],
      "execution_count": 69,
      "outputs": []
    },
    {
      "cell_type": "markdown",
      "metadata": {
        "id": "cBAbmFcSnyq_"
      },
      "source": [
        "  **Plot Loss functions and model Accuracy¶**"
      ]
    },
    {
      "cell_type": "code",
      "metadata": {
        "colab": {
          "base_uri": "https://localhost:8080/",
          "height": 895
        },
        "id": "QSogr-fZoXv0",
        "outputId": "81bbfb7f-29d9-4d2e-ea6f-09c8861a2b50"
      },
      "source": [
        "plt.figure(figsize=(10,7))\n",
        "plt.plot(history.history['loss'])\n",
        "plt.plot(history.history['val_loss'])\n",
        "plt.title('Model Loss', fontsize = 10)\n",
        "plt.ylabel('Loss', fontsize = 10)\n",
        "plt.xlabel('Epoch', fontsize = 10)\n",
        "plt.legend(['Train', 'Validation'], fontsize = 10)\n",
        "plt.show()\n",
        "\n",
        "plt.figure(figsize=(10,7))\n",
        "plt.plot(history.history['binary_accuracy'])\n",
        "plt.plot(history.history['val_binary_accuracy'])\n",
        "plt.title('Model Accuracy', fontsize = 10)\n",
        "plt.ylabel('Accuracy', fontsize = 10)\n",
        "plt.xlabel('Epoch', fontsize = 10)\n",
        "plt.legend(['Train', 'Validation'], fontsize = 10)\n",
        "plt.show()"
      ],
      "execution_count": 67,
      "outputs": [
        {
          "output_type": "display_data",
          "data": {
            "image/png": "[encoded data removed]",
            "text/plain": [
              "<Figure size 720x504 with 1 Axes>"
            ]
          },
          "metadata": {
            "tags": [],
            "needs_background": "light"
          }
        },
        {
          "output_type": "display_data",
          "data": {
            "image/png": "[encoded data removed]",
            "text/plain": [
              "<Figure size 720x504 with 1 Axes>"
            ]
          },
          "metadata": {
            "tags": [],
            "needs_background": "light"
          }
        }
      ]
    }
  ]
}