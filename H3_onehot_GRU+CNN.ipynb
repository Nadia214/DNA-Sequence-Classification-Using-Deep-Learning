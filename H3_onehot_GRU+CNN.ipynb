{
  "nbformat": 4,
  "nbformat_minor": 0,
  "metadata": {
    "colab": {
      "name": "H3_onehot_GRU+CNN.ipynb",
      "provenance": [],
      "collapsed_sections": []
    },
    "kernelspec": {
      "name": "python3",
      "display_name": "Python 3"
    },
    "language_info": {
      "name": "python"
    }
  },
  "cells": [
    {
      "cell_type": "code",
      "metadata": {
        "id": "Ur2RIvVpNHlB"
      },
      "source": [
        "from google.colab import files\n",
        "import numpy as np\n",
        "import pandas as pd\n",
        "import matplotlib.pyplot as plt\n",
        "import re\n",
        "from sklearn.model_selection import train_test_split"
      ],
      "execution_count": 1,
      "outputs": []
    },
    {
      "cell_type": "code",
      "metadata": {
        "colab": {
          "resources": {
            "http://localhost:8080/nbextensions/google.colab/files.js": {
              "data": "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",
              "ok": true,
              "headers": [
                [
                  "content-type",
                  "application/javascript"
                ]
              ],
              "status": 200,
              "status_text": "OK"
            }
          },
          "base_uri": "https://localhost:8080/",
          "height": 183
        },
        "id": "_xYeOXQWOlW5",
        "outputId": "1ef920ad-68c9-412c-807b-c35e91234d5b"
      },
      "source": [
        "uploaded = files.upload()\n",
        "data = pd.read_csv('H3.txt', sep = '\\n')\n",
        "print(data.head())"
      ],
      "execution_count": 2,
      "outputs": [
        {
          "output_type": "display_data",
          "data": {
            "text/html": [
              "\n",
              "     <input type=\"file\" id=\"files-71d5e8b2-df0b-465d-8720-2ea49c69a2b8\" name=\"files[]\" multiple disabled\n",
              "        style=\"border:none\" />\n",
              "     <output id=\"result-71d5e8b2-df0b-465d-8720-2ea49c69a2b8\">\n",
              "      Upload widget is only available when the cell has been executed in the\n",
              "      current browser session. Please rerun this cell to enable.\n",
              "      </output>\n",
              "      <script src=\"/nbextensions/google.colab/files.js\"></script> "
            ],
            "text/plain": [
              "<IPython.core.display.HTML object>"
            ]
          },
          "metadata": {
            "tags": []
          }
        },
        {
          "output_type": "stream",
          "text": [
            "Saving H3.txt to H3.txt\n",
            "                                            all_data\n",
            "0                                     >iTELL-Chr1_61\n",
            "1  CACACCACACCCACACACCCACACACCACACCACACACCACACCAC...\n",
            "2                                                  0\n",
            "3                                   >iYAL067W-A_5085\n",
            "4  AATTTTTATAGGTCGACCCTTCTGTCGCTTACTGGGTTGATTATCT...\n"
          ],
          "name": "stdout"
        }
      ]
    },
    {
      "cell_type": "code",
      "metadata": {
        "id": "7WdRdMI0gU8g"
      },
      "source": [
        "all=data[\"all_data\"].tolist()\n",
        "cls=[]\n",
        "sequence=[]\n",
        "label=[]"
      ],
      "execution_count": 3,
      "outputs": []
    },
    {
      "cell_type": "code",
      "metadata": {
        "colab": {
          "base_uri": "https://localhost:8080/"
        },
        "id": "3GXa60REgZrC",
        "outputId": "4a1ba3f6-58d4-49f7-9f11-8bd1f49043c5"
      },
      "source": [
        "length = len(all)\n",
        "for i in range(length):\n",
        "   if (i%3)==0:\n",
        "             cls.append(all[i])\n",
        "   else:\n",
        "      if(all[i]== \"0\" or all[i]==\"1\"):\n",
        "        label.append(all[i])\n",
        "      else:\n",
        "         sequence.append(all[i])\n",
        "\n",
        "print(len(cls))\n",
        "print(len(label))\n",
        "print(len(sequence))"
      ],
      "execution_count": 4,
      "outputs": [
        {
          "output_type": "stream",
          "text": [
            "14965\n",
            "14965\n",
            "14965\n"
          ],
          "name": "stdout"
        }
      ]
    },
    {
      "cell_type": "code",
      "metadata": {
        "id": "eeCM5vvPxHW5"
      },
      "source": [
        ""
      ],
      "execution_count": 3,
      "outputs": []
    },
    {
      "cell_type": "code",
      "metadata": {
        "colab": {
          "base_uri": "https://localhost:8080/",
          "height": 363
        },
        "id": "tkOQxz7Yggvy",
        "outputId": "469bfcfe-304d-4fcb-fb42-e0b04775d742"
      },
      "source": [
        "df = pd.DataFrame(list(zip(cls, label, sequence)),\n",
        "               columns =['classification' , 'label', 'sequence'])\n",
        "df.head(10)"
      ],
      "execution_count": 5,
      "outputs": [
        {
          "output_type": "execute_result",
          "data": {
            "text/html": [
              "<div>\n",
              "<style scoped>\n",
              "    .dataframe tbody tr th:only-of-type {\n",
              "        vertical-align: middle;\n",
              "    }\n",
              "\n",
              "    .dataframe tbody tr th {\n",
              "        vertical-align: top;\n",
              "    }\n",
              "\n",
              "    .dataframe thead th {\n",
              "        text-align: right;\n",
              "    }\n",
              "</style>\n",
              "<table border=\"1\" class=\"dataframe\">\n",
              "  <thead>\n",
              "    <tr style=\"text-align: right;\">\n",
              "      <th></th>\n",
              "      <th>classification</th>\n",
              "      <th>label</th>\n",
              "      <th>sequence</th>\n",
              "    </tr>\n",
              "  </thead>\n",
              "  <tbody>\n",
              "    <tr>\n",
              "      <th>0</th>\n",
              "      <td>&gt;iTELL-Chr1_61</td>\n",
              "      <td>0</td>\n",
              "      <td>CACACCACACCCACACACCCACACACCACACCACACACCACACCAC...</td>\n",
              "    </tr>\n",
              "    <tr>\n",
              "      <th>1</th>\n",
              "      <td>&gt;iYAL067W-A_5085</td>\n",
              "      <td>0</td>\n",
              "      <td>AATTTTTATAGGTCGACCCTTCTGTCGCTTACTGGGTTGATTATCT...</td>\n",
              "    </tr>\n",
              "    <tr>\n",
              "      <th>2</th>\n",
              "      <td>&gt;iYAL067W-A_6786</td>\n",
              "      <td>0</td>\n",
              "      <td>AATTATATTTCCATCAGCTCAATACCGCAGTACTTTGAAACCTGAT...</td>\n",
              "    </tr>\n",
              "    <tr>\n",
              "      <th>3</th>\n",
              "      <td>&gt;iYAL067W-A_7060</td>\n",
              "      <td>0</td>\n",
              "      <td>AACAATAGTGGGTATGAGTAAAGATATATAGATCGATATTTTGAAT...</td>\n",
              "    </tr>\n",
              "    <tr>\n",
              "      <th>4</th>\n",
              "      <td>&gt;YAL067C_SEO1_8061</td>\n",
              "      <td>1</td>\n",
              "      <td>CAAAGATTTCAACCATAGTAGGTATGCCCCAGATGAAACATTACTG...</td>\n",
              "    </tr>\n",
              "    <tr>\n",
              "      <th>5</th>\n",
              "      <td>&gt;YAL067C_SEO1_8340</td>\n",
              "      <td>1</td>\n",
              "      <td>CACAATAGCGTCAATAATAAAGTTCCATCTCCATCCCTCTAAACCA...</td>\n",
              "    </tr>\n",
              "    <tr>\n",
              "      <th>6</th>\n",
              "      <td>&gt;iYAL067C_9509</td>\n",
              "      <td>1</td>\n",
              "      <td>GTTTTTTTCCAGTGACACAATCTTTACCATTACACAGTTTTTACTA...</td>\n",
              "    </tr>\n",
              "    <tr>\n",
              "      <th>7</th>\n",
              "      <td>&gt;iYAL067C_10442</td>\n",
              "      <td>0</td>\n",
              "      <td>CAGAAACATAAAATTATATCACTTTATTTCATATGGTTTCATGCTT...</td>\n",
              "    </tr>\n",
              "    <tr>\n",
              "      <th>8</th>\n",
              "      <td>&gt;YAL065C_YAL065C_11570</td>\n",
              "      <td>1</td>\n",
              "      <td>AGATACCTCGAAACAAACTCTATGTAAACACTTATTTTATTGTGGT...</td>\n",
              "    </tr>\n",
              "    <tr>\n",
              "      <th>9</th>\n",
              "      <td>&gt;iYAL064W-B_13286</td>\n",
              "      <td>1</td>\n",
              "      <td>ATGACTGGAGAAGAAGTGACTAGAGAAGAAGTGACTGAGGAAGAAA...</td>\n",
              "    </tr>\n",
              "  </tbody>\n",
              "</table>\n",
              "</div>"
            ],
            "text/plain": [
              "           classification  ...                                           sequence\n",
              "0          >iTELL-Chr1_61  ...  CACACCACACCCACACACCCACACACCACACCACACACCACACCAC...\n",
              "1        >iYAL067W-A_5085  ...  AATTTTTATAGGTCGACCCTTCTGTCGCTTACTGGGTTGATTATCT...\n",
              "2        >iYAL067W-A_6786  ...  AATTATATTTCCATCAGCTCAATACCGCAGTACTTTGAAACCTGAT...\n",
              "3        >iYAL067W-A_7060  ...  AACAATAGTGGGTATGAGTAAAGATATATAGATCGATATTTTGAAT...\n",
              "4      >YAL067C_SEO1_8061  ...  CAAAGATTTCAACCATAGTAGGTATGCCCCAGATGAAACATTACTG...\n",
              "5      >YAL067C_SEO1_8340  ...  CACAATAGCGTCAATAATAAAGTTCCATCTCCATCCCTCTAAACCA...\n",
              "6          >iYAL067C_9509  ...  GTTTTTTTCCAGTGACACAATCTTTACCATTACACAGTTTTTACTA...\n",
              "7         >iYAL067C_10442  ...  CAGAAACATAAAATTATATCACTTTATTTCATATGGTTTCATGCTT...\n",
              "8  >YAL065C_YAL065C_11570  ...  AGATACCTCGAAACAAACTCTATGTAAACACTTATTTTATTGTGGT...\n",
              "9       >iYAL064W-B_13286  ...  ATGACTGGAGAAGAAGTGACTAGAGAAGAAGTGACTGAGGAAGAAA...\n",
              "\n",
              "[10 rows x 3 columns]"
            ]
          },
          "metadata": {
            "tags": []
          },
          "execution_count": 5
        }
      ]
    },
    {
      "cell_type": "code",
      "metadata": {
        "colab": {
          "base_uri": "https://localhost:8080/"
        },
        "id": "ISYYq4u97T3T",
        "outputId": "ddbd5a50-de1b-4cde-ca2a-46abdd9ebbba"
      },
      "source": [
        "labels = list(df.loc[:,'label'])\n",
        "print(type(labels))"
      ],
      "execution_count": 6,
      "outputs": [
        {
          "output_type": "stream",
          "text": [
            "<class 'list'>\n"
          ],
          "name": "stdout"
        }
      ]
    },
    {
      "cell_type": "code",
      "metadata": {
        "colab": {
          "base_uri": "https://localhost:8080/"
        },
        "id": "KQeyQOQU7TK0",
        "outputId": "ffd2518a-22ca-40bb-a6b0-6288d48138d8"
      },
      "source": [
        "sequences = list(df.loc[:, 'sequence'])\n",
        "print(type(sequences))\n",
        "seqqq=sequences"
      ],
      "execution_count": 7,
      "outputs": [
        {
          "output_type": "stream",
          "text": [
            "<class 'list'>\n"
          ],
          "name": "stdout"
        }
      ]
    },
    {
      "cell_type": "code",
      "metadata": {
        "id": "XsBuwzu5wHKU"
      },
      "source": [
        "seqs = df.sequence.values\n"
      ],
      "execution_count": 8,
      "outputs": []
    },
    {
      "cell_type": "code",
      "metadata": {
        "id": "br0cRQCizNEm"
      },
      "source": [
        "from sklearn.preprocessing import LabelEncoder, OneHotEncoder\n",
        "\n",
        "# The LabelEncoder encodes a sequence of bases as a sequence of integers.\n",
        "integer_encoder = LabelEncoder()  \n",
        "# The OneHotEncoder converts an array of integers to a sparse matrix where \n",
        "# each row corresponds to one possible value of each feature.\n",
        "one_hot_encoder = OneHotEncoder(categories='auto')   \n",
        "input_features = []\n",
        "\n",
        "for sequence in seqqq:\n",
        " \n",
        "  integer_encoded = integer_encoder.fit_transform(list(sequence))\n",
        "  integer_encoded = np.array(integer_encoded).reshape(-1, 1)\n",
        "  one_hot_encoded = one_hot_encoder.fit_transform(integer_encoded)\n",
        "  input_features.append(one_hot_encoded.toarray())\n"
      ],
      "execution_count": 9,
      "outputs": []
    },
    {
      "cell_type": "code",
      "metadata": {
        "id": "LcRFQz0uE0cq"
      },
      "source": [
        "from keras.preprocessing.sequence import pad_sequences\n",
        "from keras.preprocessing import text, sequence\n",
        "max_length=500\n",
        "input_features = sequence.pad_sequences(input_features, maxlen=max_length)\n"
      ],
      "execution_count": 10,
      "outputs": []
    },
    {
      "cell_type": "code",
      "metadata": {
        "id": "0pvlP_dEzB0t"
      },
      "source": [
        "input_features = input_features.astype('float64')"
      ],
      "execution_count": 11,
      "outputs": []
    },
    {
      "cell_type": "code",
      "metadata": {
        "id": "IJzCTnxFzHtf"
      },
      "source": [
        "#input_features= input_features.reshape(14965,2000)"
      ],
      "execution_count": null,
      "outputs": []
    },
    {
      "cell_type": "code",
      "metadata": {
        "id": "3ctg12tfUedp",
        "colab": {
          "base_uri": "https://localhost:8080/"
        },
        "outputId": "274ce3fe-0dd7-4a39-aeb0-9dc3be4b39c6"
      },
      "source": [
        "np.set_printoptions(threshold=40)\n",
        "input_features = np.stack(input_features)\n",
        "print(\"Example sequence\\n-----------------------\")\n",
        "print('DNA Sequence #1:\\n',sequences[0][:10],'...',sequences[0][-10:])\n",
        "print('One hot encoding of Sequence #1:\\n',input_features[0].T)"
      ],
      "execution_count": 12,
      "outputs": [
        {
          "output_type": "stream",
          "text": [
            "Example sequence\n",
            "-----------------------\n",
            "DNA Sequence #1:\n",
            " CACACCACAC ... GTTCTTCTAC\n",
            "One hot encoding of Sequence #1:\n",
            " [[0. 0. 0. ... 0. 1. 0.]\n",
            " [0. 0. 0. ... 0. 0. 1.]\n",
            " [0. 0. 0. ... 0. 0. 0.]\n",
            " [0. 0. 0. ... 1. 0. 0.]]\n"
          ],
          "name": "stdout"
        }
      ]
    },
    {
      "cell_type": "code",
      "metadata": {
        "colab": {
          "base_uri": "https://localhost:8080/"
        },
        "id": "5z4bOF0KtDwU",
        "outputId": "d2f9ad6d-e469-4efb-c6b1-59c56cf04035"
      },
      "source": [
        "labels = list(filter(None, label))  # removes empty sequences\n",
        "\n",
        "one_hot_encoder = OneHotEncoder(categories='auto')\n",
        "labels = np.array(labels).reshape(-1, 1)\n",
        "input_labels = one_hot_encoder.fit_transform(labels).toarray()\n",
        "\n",
        "print('Labels:\\n',labels.T)\n",
        "print('One-hot encoded labels:\\n',input_labels.T)"
      ],
      "execution_count": 13,
      "outputs": [
        {
          "output_type": "stream",
          "text": [
            "Labels:\n",
            " [['0' '0' '0' ... '1' '1' '1']]\n",
            "One-hot encoded labels:\n",
            " [[1. 1. 1. ... 0. 0. 0.]\n",
            " [0. 0. 0. ... 1. 1. 1.]]\n"
          ],
          "name": "stdout"
        }
      ]
    },
    {
      "cell_type": "code",
      "metadata": {
        "id": "Cu9YIttB5AF6"
      },
      "source": [
        "from sklearn.model_selection import train_test_split\n",
        "X_train, X_test, y_train, y_test = train_test_split(input_features, input_labels, test_size=.25, random_state=42)\n"
      ],
      "execution_count": 14,
      "outputs": []
    },
    {
      "cell_type": "code",
      "metadata": {
        "colab": {
          "base_uri": "https://localhost:8080/"
        },
        "id": "a37gMT8b5GIj",
        "outputId": "4dd2a86d-ffa8-46ea-d73f-82616b19292b"
      },
      "source": [
        "X_train.shape"
      ],
      "execution_count": 15,
      "outputs": [
        {
          "output_type": "execute_result",
          "data": {
            "text/plain": [
              "(11223, 500, 4)"
            ]
          },
          "metadata": {
            "tags": []
          },
          "execution_count": 15
        }
      ]
    },
    {
      "cell_type": "code",
      "metadata": {
        "colab": {
          "base_uri": "https://localhost:8080/"
        },
        "id": "csFgBAPv5LLy",
        "outputId": "e8943459-00c9-4b7b-bcc0-92c359c4d877"
      },
      "source": [
        "y_train.shape"
      ],
      "execution_count": 16,
      "outputs": [
        {
          "output_type": "execute_result",
          "data": {
            "text/plain": [
              "(11223, 2)"
            ]
          },
          "metadata": {
            "tags": []
          },
          "execution_count": 16
        }
      ]
    },
    {
      "cell_type": "code",
      "metadata": {
        "id": "ydtgTlP31HAI"
      },
      "source": [
        "\n",
        "import numpy as np\n",
        "from tensorflow.keras.models import Sequential\n",
        "from tensorflow.keras.layers import Dense, Dropout, GRU\n",
        "from tensorflow import keras\n",
        "import tensorflow as tf"
      ],
      "execution_count": 17,
      "outputs": []
    },
    {
      "cell_type": "code",
      "metadata": {
        "id": "oiRJGpCYVeKN"
      },
      "source": [
        "\n",
        "from tensorflow.keras.models import Sequential\n",
        "from keras.layers import Dense, Dropout, Flatten, Conv1D, MaxPooling1D, MaxPooling2D, Conv2D, LSTM, GRU, Bidirectional\n",
        "from keras import regularizers\n",
        "\n"
      ],
      "execution_count": 18,
      "outputs": []
    },
    {
      "cell_type": "code",
      "metadata": {
        "id": "liWzpvlrGz82"
      },
      "source": [
        "gru_model = Sequential()\n",
        "\n",
        "gru_model.add(Conv1D(filters = 27, kernel_size = (4), activation = 'relu', input_shape = (X_train.shape[1], 4)))\n",
        "gru_model.add(MaxPooling1D(pool_size= (3)))\n",
        "gru_model.add(Dropout(0.2))\n",
        "\n",
        "gru_model.add(Conv1D(filters = 14, kernel_size = (2), activation = 'relu', padding = 'same'))\n",
        "#cnn_model.add(MaxPooling1D(pool_size= (1)))\n",
        "#cnn_model.add(Dropout(0.2))\n",
        "\n",
        "\n",
        "\n",
        "gru_model.add(Bidirectional(GRU(128, activation = 'relu')))\n",
        "gru_model.add(Dropout(0.2))\n",
        "gru_model.add(Dense(128, activation = 'relu'))\n",
        "gru_model.add(Dense(64, activation = 'relu'))\n",
        "gru_model.add(Dense(64, activation = 'relu'))\n",
        "gru_model.add(Dense(16, activation = 'relu', kernel_regularizer = regularizers.l2(0.01)))\n",
        "gru_model.add(Dense(2, activation = 'sigmoid'))\n",
        "\n",
        "gru_model.compile(loss='binary_crossentropy',\n",
        "              optimizer='adam',\n",
        "              metrics=['accuracy'])\n",
        "\n",
        "early_stop = keras.callbacks.EarlyStopping(monitor = 'val_accuracy', min_delta = 0.0005, patience=8, \n",
        "                                           restore_best_weights=True )\n"
      ],
      "execution_count": 48,
      "outputs": []
    },
    {
      "cell_type": "code",
      "metadata": {
        "colab": {
          "base_uri": "https://localhost:8080/"
        },
        "id": "xES5C6A6oIBP",
        "outputId": "4bda2523-6b0e-4286-a611-c2031aa69873"
      },
      "source": [
        "history = gru_model.fit(X_train, y_train, validation_data=(X_test, y_test), epochs=100, batch_size=128)"
      ],
      "execution_count": 45,
      "outputs": [
        {
          "output_type": "stream",
          "text": [
            "Epoch 1/100\n",
            "88/88 [==============================] - 65s 697ms/step - loss: 0.6922 - accuracy: 0.5227 - val_loss: 0.6880 - val_accuracy: 0.5681\n",
            "Epoch 2/100\n",
            "88/88 [==============================] - 62s 702ms/step - loss: 0.6826 - accuracy: 0.5765 - val_loss: 0.6924 - val_accuracy: 0.5382\n",
            "Epoch 3/100\n",
            "88/88 [==============================] - 63s 719ms/step - loss: 0.6890 - accuracy: 0.5366 - val_loss: 0.6726 - val_accuracy: 0.5492\n",
            "Epoch 4/100\n",
            "88/88 [==============================] - 61s 698ms/step - loss: 0.6370 - accuracy: 0.6354 - val_loss: 0.5641 - val_accuracy: 0.7504\n",
            "Epoch 5/100\n",
            "88/88 [==============================] - 62s 706ms/step - loss: 0.5445 - accuracy: 0.7433 - val_loss: 0.5186 - val_accuracy: 0.7638\n",
            "Epoch 6/100\n",
            "88/88 [==============================] - 62s 708ms/step - loss: 0.5053 - accuracy: 0.7721 - val_loss: 0.4838 - val_accuracy: 0.7873\n",
            "Epoch 7/100\n",
            "88/88 [==============================] - 62s 706ms/step - loss: 0.4957 - accuracy: 0.7770 - val_loss: 0.5055 - val_accuracy: 0.7664\n",
            "Epoch 8/100\n",
            "88/88 [==============================] - 61s 695ms/step - loss: 0.4830 - accuracy: 0.7832 - val_loss: 0.4801 - val_accuracy: 0.7878\n",
            "Epoch 9/100\n",
            "88/88 [==============================] - 60s 688ms/step - loss: 0.4850 - accuracy: 0.7827 - val_loss: 0.4740 - val_accuracy: 0.7950\n",
            "Epoch 10/100\n",
            "88/88 [==============================] - 61s 688ms/step - loss: 0.4896 - accuracy: 0.7789 - val_loss: 0.4654 - val_accuracy: 0.7988\n",
            "Epoch 11/100\n",
            "88/88 [==============================] - 61s 693ms/step - loss: 0.4733 - accuracy: 0.7877 - val_loss: 0.4623 - val_accuracy: 0.7980\n",
            "Epoch 12/100\n",
            "88/88 [==============================] - 60s 685ms/step - loss: 0.4691 - accuracy: 0.7910 - val_loss: 0.5201 - val_accuracy: 0.7517\n",
            "Epoch 13/100\n",
            "88/88 [==============================] - 60s 687ms/step - loss: 0.4710 - accuracy: 0.7879 - val_loss: 0.4697 - val_accuracy: 0.7875\n",
            "Epoch 14/100\n",
            "88/88 [==============================] - 61s 692ms/step - loss: 0.4545 - accuracy: 0.7972 - val_loss: 0.4872 - val_accuracy: 0.7731\n",
            "Epoch 15/100\n",
            "88/88 [==============================] - 61s 692ms/step - loss: 0.4567 - accuracy: 0.7939 - val_loss: 0.4393 - val_accuracy: 0.8063\n",
            "Epoch 16/100\n",
            "88/88 [==============================] - 61s 689ms/step - loss: 0.4447 - accuracy: 0.7985 - val_loss: 0.4520 - val_accuracy: 0.8009\n",
            "Epoch 17/100\n",
            "88/88 [==============================] - 60s 687ms/step - loss: 0.4392 - accuracy: 0.8045 - val_loss: 0.4421 - val_accuracy: 0.8001\n",
            "Epoch 18/100\n",
            "88/88 [==============================] - 61s 690ms/step - loss: 0.4344 - accuracy: 0.8058 - val_loss: 0.4864 - val_accuracy: 0.7819\n",
            "Epoch 19/100\n",
            "88/88 [==============================] - 61s 689ms/step - loss: 0.4366 - accuracy: 0.8050 - val_loss: 0.5311 - val_accuracy: 0.7290\n",
            "Epoch 20/100\n",
            "88/88 [==============================] - 60s 688ms/step - loss: 0.4176 - accuracy: 0.8143 - val_loss: 0.4419 - val_accuracy: 0.8087\n",
            "Epoch 21/100\n",
            "88/88 [==============================] - 61s 691ms/step - loss: 0.4103 - accuracy: 0.8211 - val_loss: 0.4208 - val_accuracy: 0.8175\n",
            "Epoch 22/100\n",
            "88/88 [==============================] - 61s 690ms/step - loss: 0.4035 - accuracy: 0.8201 - val_loss: 0.3864 - val_accuracy: 0.8343\n",
            "Epoch 23/100\n",
            "88/88 [==============================] - 61s 690ms/step - loss: 0.3945 - accuracy: 0.8287 - val_loss: 0.4244 - val_accuracy: 0.8081\n",
            "Epoch 24/100\n",
            "88/88 [==============================] - 61s 690ms/step - loss: 0.3910 - accuracy: 0.8328 - val_loss: 0.4132 - val_accuracy: 0.8164\n",
            "Epoch 25/100\n",
            "88/88 [==============================] - 61s 689ms/step - loss: 0.4022 - accuracy: 0.8246 - val_loss: 0.4000 - val_accuracy: 0.8220\n",
            "Epoch 26/100\n",
            "88/88 [==============================] - 61s 689ms/step - loss: 0.3877 - accuracy: 0.8308 - val_loss: 0.4057 - val_accuracy: 0.8172\n",
            "Epoch 27/100\n",
            "88/88 [==============================] - 61s 688ms/step - loss: 0.3723 - accuracy: 0.8395 - val_loss: 0.3979 - val_accuracy: 0.8260\n",
            "Epoch 28/100\n",
            "88/88 [==============================] - 60s 688ms/step - loss: 0.3800 - accuracy: 0.8389 - val_loss: 0.4002 - val_accuracy: 0.8239\n",
            "Epoch 29/100\n",
            "88/88 [==============================] - 61s 691ms/step - loss: 0.3673 - accuracy: 0.8462 - val_loss: 0.3911 - val_accuracy: 0.8343\n",
            "Epoch 30/100\n",
            "88/88 [==============================] - 61s 691ms/step - loss: 0.3618 - accuracy: 0.8482 - val_loss: 0.3967 - val_accuracy: 0.8263\n",
            "Epoch 31/100\n",
            "88/88 [==============================] - 60s 683ms/step - loss: 0.3621 - accuracy: 0.8467 - val_loss: 0.3642 - val_accuracy: 0.8487\n",
            "Epoch 32/100\n",
            "88/88 [==============================] - 60s 684ms/step - loss: 0.3613 - accuracy: 0.8451 - val_loss: 0.4201 - val_accuracy: 0.8063\n",
            "Epoch 33/100\n",
            "88/88 [==============================] - 60s 678ms/step - loss: 0.3602 - accuracy: 0.8455 - val_loss: 0.3762 - val_accuracy: 0.8479\n",
            "Epoch 34/100\n",
            "88/88 [==============================] - 60s 680ms/step - loss: 0.3582 - accuracy: 0.8481 - val_loss: 0.4117 - val_accuracy: 0.8207\n",
            "Epoch 35/100\n",
            "88/88 [==============================] - 60s 679ms/step - loss: 0.3482 - accuracy: 0.8525 - val_loss: 0.3667 - val_accuracy: 0.8570\n",
            "Epoch 36/100\n",
            "88/88 [==============================] - 60s 679ms/step - loss: 0.3466 - accuracy: 0.8549 - val_loss: 0.3841 - val_accuracy: 0.8292\n",
            "Epoch 37/100\n",
            "88/88 [==============================] - 59s 676ms/step - loss: 0.3501 - accuracy: 0.8504 - val_loss: 0.4316 - val_accuracy: 0.8177\n",
            "Epoch 38/100\n",
            "88/88 [==============================] - 59s 674ms/step - loss: 0.3535 - accuracy: 0.8501 - val_loss: 0.3958 - val_accuracy: 0.8306\n",
            "Epoch 39/100\n",
            "88/88 [==============================] - 59s 669ms/step - loss: 0.3432 - accuracy: 0.8555 - val_loss: 0.3582 - val_accuracy: 0.8485\n",
            "Epoch 40/100\n",
            "88/88 [==============================] - 59s 673ms/step - loss: 0.3385 - accuracy: 0.8577 - val_loss: 0.3859 - val_accuracy: 0.8405\n",
            "Epoch 41/100\n",
            "88/88 [==============================] - 59s 670ms/step - loss: 0.3344 - accuracy: 0.8614 - val_loss: 0.3836 - val_accuracy: 0.8381\n",
            "Epoch 42/100\n",
            "88/88 [==============================] - 59s 671ms/step - loss: 0.3396 - accuracy: 0.8574 - val_loss: 0.4155 - val_accuracy: 0.8210\n",
            "Epoch 43/100\n",
            "88/88 [==============================] - 59s 675ms/step - loss: 0.3312 - accuracy: 0.8639 - val_loss: 0.3974 - val_accuracy: 0.8322\n",
            "Epoch 44/100\n",
            "88/88 [==============================] - 59s 672ms/step - loss: 0.3398 - accuracy: 0.8568 - val_loss: 0.3750 - val_accuracy: 0.8437\n",
            "Epoch 45/100\n",
            "88/88 [==============================] - 59s 673ms/step - loss: 0.3294 - accuracy: 0.8618 - val_loss: 0.3410 - val_accuracy: 0.8666\n",
            "Epoch 46/100\n",
            "88/88 [==============================] - 59s 675ms/step - loss: 0.3326 - accuracy: 0.8619 - val_loss: 0.3869 - val_accuracy: 0.8354\n",
            "Epoch 47/100\n",
            "88/88 [==============================] - 59s 673ms/step - loss: 0.3334 - accuracy: 0.8609 - val_loss: 0.3352 - val_accuracy: 0.8648\n",
            "Epoch 48/100\n",
            "88/88 [==============================] - 59s 674ms/step - loss: 0.3240 - accuracy: 0.8648 - val_loss: 0.3663 - val_accuracy: 0.8618\n",
            "Epoch 49/100\n",
            "88/88 [==============================] - 60s 677ms/step - loss: 0.3222 - accuracy: 0.8639 - val_loss: 0.3348 - val_accuracy: 0.8640\n",
            "Epoch 50/100\n",
            "88/88 [==============================] - 60s 679ms/step - loss: 0.3183 - accuracy: 0.8681 - val_loss: 0.3943 - val_accuracy: 0.8455\n",
            "Epoch 51/100\n",
            "88/88 [==============================] - 60s 682ms/step - loss: 0.3167 - accuracy: 0.8671 - val_loss: 0.3857 - val_accuracy: 0.8463\n",
            "Epoch 52/100\n",
            "88/88 [==============================] - 60s 678ms/step - loss: 0.3250 - accuracy: 0.8622 - val_loss: 0.3825 - val_accuracy: 0.8397\n",
            "Epoch 53/100\n",
            "88/88 [==============================] - 60s 680ms/step - loss: 0.3149 - accuracy: 0.8705 - val_loss: 0.3672 - val_accuracy: 0.8439\n",
            "Epoch 54/100\n",
            "88/88 [==============================] - 60s 682ms/step - loss: 0.3114 - accuracy: 0.8679 - val_loss: 0.3554 - val_accuracy: 0.8616\n",
            "Epoch 55/100\n",
            "88/88 [==============================] - 60s 677ms/step - loss: 0.3145 - accuracy: 0.8669 - val_loss: 0.4268 - val_accuracy: 0.8191\n",
            "Epoch 56/100\n",
            "88/88 [==============================] - 60s 679ms/step - loss: 0.3154 - accuracy: 0.8667 - val_loss: 0.3736 - val_accuracy: 0.8487\n",
            "Epoch 57/100\n",
            "88/88 [==============================] - 60s 678ms/step - loss: 0.3129 - accuracy: 0.8694 - val_loss: 0.3514 - val_accuracy: 0.8600\n",
            "Epoch 58/100\n",
            "88/88 [==============================] - 60s 682ms/step - loss: 0.3054 - accuracy: 0.8747 - val_loss: 0.3743 - val_accuracy: 0.8487\n",
            "Epoch 59/100\n",
            "88/88 [==============================] - 60s 681ms/step - loss: 0.3067 - accuracy: 0.8696 - val_loss: 0.4334 - val_accuracy: 0.8300\n",
            "Epoch 60/100\n",
            "88/88 [==============================] - 60s 682ms/step - loss: 0.3057 - accuracy: 0.8712 - val_loss: 0.3947 - val_accuracy: 0.8423\n",
            "Epoch 61/100\n",
            "88/88 [==============================] - 60s 680ms/step - loss: 0.3049 - accuracy: 0.8712 - val_loss: 0.3627 - val_accuracy: 0.8455\n",
            "Epoch 62/100\n",
            "88/88 [==============================] - 60s 680ms/step - loss: 0.3036 - accuracy: 0.8751 - val_loss: 0.3778 - val_accuracy: 0.8365\n",
            "Epoch 63/100\n",
            "88/88 [==============================] - 60s 681ms/step - loss: 0.3086 - accuracy: 0.8697 - val_loss: 0.3530 - val_accuracy: 0.8554\n",
            "Epoch 64/100\n",
            "88/88 [==============================] - 60s 683ms/step - loss: 0.2999 - accuracy: 0.8747 - val_loss: 0.3337 - val_accuracy: 0.8640\n",
            "Epoch 65/100\n",
            "88/88 [==============================] - 61s 688ms/step - loss: 0.3088 - accuracy: 0.8688 - val_loss: 0.3335 - val_accuracy: 0.8648\n",
            "Epoch 66/100\n",
            "88/88 [==============================] - 61s 689ms/step - loss: 0.3062 - accuracy: 0.8675 - val_loss: 0.3547 - val_accuracy: 0.8589\n",
            "Epoch 67/100\n",
            "88/88 [==============================] - 61s 689ms/step - loss: 0.2950 - accuracy: 0.8761 - val_loss: 0.3480 - val_accuracy: 0.8578\n",
            "Epoch 68/100\n",
            "88/88 [==============================] - 60s 683ms/step - loss: 0.2907 - accuracy: 0.8774 - val_loss: 0.3611 - val_accuracy: 0.8461\n",
            "Epoch 69/100\n",
            "88/88 [==============================] - 60s 682ms/step - loss: 0.2934 - accuracy: 0.8753 - val_loss: 0.3769 - val_accuracy: 0.8477\n",
            "Epoch 70/100\n",
            "88/88 [==============================] - 61s 690ms/step - loss: 0.2937 - accuracy: 0.8745 - val_loss: 0.3842 - val_accuracy: 0.8381\n",
            "Epoch 71/100\n",
            "88/88 [==============================] - 61s 690ms/step - loss: 0.2988 - accuracy: 0.8766 - val_loss: 0.3666 - val_accuracy: 0.8434\n",
            "Epoch 72/100\n",
            "88/88 [==============================] - 61s 689ms/step - loss: 0.2917 - accuracy: 0.8776 - val_loss: 0.4014 - val_accuracy: 0.8324\n",
            "Epoch 73/100\n",
            "88/88 [==============================] - 61s 689ms/step - loss: 0.2869 - accuracy: 0.8802 - val_loss: 0.3619 - val_accuracy: 0.8538\n",
            "Epoch 74/100\n",
            "88/88 [==============================] - 60s 687ms/step - loss: 0.2861 - accuracy: 0.8821 - val_loss: 0.3864 - val_accuracy: 0.8434\n",
            "Epoch 75/100\n",
            "88/88 [==============================] - 61s 688ms/step - loss: 0.2855 - accuracy: 0.8787 - val_loss: 0.3366 - val_accuracy: 0.8648\n",
            "Epoch 76/100\n",
            "88/88 [==============================] - 61s 690ms/step - loss: 0.2837 - accuracy: 0.8835 - val_loss: 0.3680 - val_accuracy: 0.8439\n",
            "Epoch 77/100\n",
            "88/88 [==============================] - 61s 692ms/step - loss: 0.2808 - accuracy: 0.8813 - val_loss: 0.3772 - val_accuracy: 0.8485\n",
            "Epoch 78/100\n",
            "88/88 [==============================] - 60s 688ms/step - loss: 0.2815 - accuracy: 0.8783 - val_loss: 0.3581 - val_accuracy: 0.8514\n",
            "Epoch 79/100\n",
            "88/88 [==============================] - 60s 687ms/step - loss: 0.2811 - accuracy: 0.8791 - val_loss: 0.3717 - val_accuracy: 0.8365\n",
            "Epoch 80/100\n",
            "88/88 [==============================] - 61s 688ms/step - loss: 0.2824 - accuracy: 0.8821 - val_loss: 0.3808 - val_accuracy: 0.8386\n",
            "Epoch 81/100\n",
            "88/88 [==============================] - 60s 687ms/step - loss: 0.2772 - accuracy: 0.8823 - val_loss: 0.3429 - val_accuracy: 0.8573\n",
            "Epoch 82/100\n",
            "88/88 [==============================] - 60s 687ms/step - loss: 0.2731 - accuracy: 0.8844 - val_loss: 0.3461 - val_accuracy: 0.8557\n",
            "Epoch 83/100\n",
            "88/88 [==============================] - 61s 691ms/step - loss: 0.2755 - accuracy: 0.8848 - val_loss: 0.3954 - val_accuracy: 0.8370\n",
            "Epoch 84/100\n",
            "88/88 [==============================] - 61s 690ms/step - loss: 0.2746 - accuracy: 0.8856 - val_loss: 0.3527 - val_accuracy: 0.8522\n",
            "Epoch 85/100\n",
            "88/88 [==============================] - 60s 688ms/step - loss: 0.2734 - accuracy: 0.8848 - val_loss: 0.3717 - val_accuracy: 0.8450\n",
            "Epoch 86/100\n",
            "88/88 [==============================] - 60s 688ms/step - loss: 0.2654 - accuracy: 0.8902 - val_loss: 0.3517 - val_accuracy: 0.8581\n",
            "Epoch 87/100\n",
            "88/88 [==============================] - 61s 689ms/step - loss: 0.2697 - accuracy: 0.8908 - val_loss: 0.3597 - val_accuracy: 0.8517\n",
            "Epoch 88/100\n",
            "88/88 [==============================] - 61s 690ms/step - loss: 0.2705 - accuracy: 0.8876 - val_loss: 0.3862 - val_accuracy: 0.8458\n",
            "Epoch 89/100\n",
            "88/88 [==============================] - 60s 687ms/step - loss: 0.2684 - accuracy: 0.8868 - val_loss: 0.3564 - val_accuracy: 0.8541\n",
            "Epoch 90/100\n",
            "88/88 [==============================] - 60s 683ms/step - loss: 0.2706 - accuracy: 0.8869 - val_loss: 0.3638 - val_accuracy: 0.8445\n",
            "Epoch 91/100\n",
            "88/88 [==============================] - 60s 678ms/step - loss: 0.2640 - accuracy: 0.8906 - val_loss: 0.3544 - val_accuracy: 0.8554\n",
            "Epoch 92/100\n",
            "88/88 [==============================] - 60s 682ms/step - loss: 0.2703 - accuracy: 0.8868 - val_loss: 0.3400 - val_accuracy: 0.8570\n",
            "Epoch 93/100\n",
            "88/88 [==============================] - 60s 680ms/step - loss: 0.2708 - accuracy: 0.8897 - val_loss: 0.3457 - val_accuracy: 0.8597\n",
            "Epoch 94/100\n",
            "88/88 [==============================] - 60s 680ms/step - loss: 0.2663 - accuracy: 0.8869 - val_loss: 0.3604 - val_accuracy: 0.8562\n",
            "Epoch 95/100\n",
            "88/88 [==============================] - 60s 680ms/step - loss: 0.2655 - accuracy: 0.8877 - val_loss: 0.3788 - val_accuracy: 0.8522\n",
            "Epoch 96/100\n",
            "88/88 [==============================] - 60s 682ms/step - loss: 0.2603 - accuracy: 0.8904 - val_loss: 0.3350 - val_accuracy: 0.8637\n",
            "Epoch 97/100\n",
            "88/88 [==============================] - 60s 681ms/step - loss: 0.2569 - accuracy: 0.8908 - val_loss: 0.3676 - val_accuracy: 0.8552\n",
            "Epoch 98/100\n",
            "88/88 [==============================] - 60s 681ms/step - loss: 0.2707 - accuracy: 0.8873 - val_loss: 0.3503 - val_accuracy: 0.8584\n",
            "Epoch 99/100\n",
            "88/88 [==============================] - 60s 683ms/step - loss: 0.2569 - accuracy: 0.8928 - val_loss: 0.3695 - val_accuracy: 0.8661\n",
            "Epoch 100/100\n",
            "88/88 [==============================] - 60s 683ms/step - loss: 0.2500 - accuracy: 0.8958 - val_loss: 0.3456 - val_accuracy: 0.8621\n"
          ],
          "name": "stdout"
        }
      ]
    },
    {
      "cell_type": "code",
      "metadata": {
        "colab": {
          "base_uri": "https://localhost:8080/"
        },
        "id": "FH05U2kxqC4X",
        "outputId": "2739953c-f515-4139-d0dc-6cfd51350e10"
      },
      "source": [
        "\n",
        "from sklearn.metrics import accuracy_score\n",
        "\n",
        "\n",
        "train_pred = gru_model.predict(X_train)\n",
        "test_pred = gru_model.predict(X_test)\n",
        "print(\"train-acc = \" + str(accuracy_score(np.argmax(y_train, axis=1), np.argmax(train_pred, axis=1))))\n",
        "print(\"test-acc = \" + str(accuracy_score(np.argmax(y_test, axis=1), np.argmax(test_pred, axis=1))))\n"
      ],
      "execution_count": 47,
      "outputs": [
        {
          "output_type": "stream",
          "text": [
            "train-acc = 0.905283792212421\n",
            "test-acc = 0.8621058257616248\n"
          ],
          "name": "stdout"
        }
      ]
    },
    {
      "cell_type": "code",
      "metadata": {
        "colab": {
          "base_uri": "https://localhost:8080/",
          "height": 568
        },
        "id": "JVvrlrKEC7US",
        "outputId": "aeffefda-9893-4ebc-a980-89c3cb0cb43d"
      },
      "source": [
        "from sklearn.metrics import confusion_matrix\n",
        "import itertools\n",
        "\n",
        "plt.figure(figsize=(10,8))\n",
        "\n",
        "predicted_labels = gru_model.predict(X_test)\n",
        "cm = confusion_matrix(np.argmax(y_test, axis=1), \n",
        "                      np.argmax(predicted_labels, axis=1))\n",
        "print('Confusion matrix:\\n',cm)\n",
        "\n",
        "cm = cm.astype('float') / cm.sum(axis = 1)[:, np.newaxis]\n",
        "\n",
        "plt.imshow(cm, cmap=plt.cm.Blues)\n",
        "plt.title('Normalized confusion matrix')\n",
        "plt.colorbar()\n",
        "plt.xlabel('True label')\n",
        "plt.ylabel('Predicted label')\n",
        "plt.xticks([0, 1]); plt.yticks([0, 1])\n",
        "plt.grid('off')\n",
        "for i, j in itertools.product(range(cm.shape[0]), range(cm.shape[1])):\n",
        "    plt.text(j, i, format(cm[i, j], '.2f'),\n",
        "             horizontalalignment='center',\n",
        "             color='white' if cm[i, j] > 0.5 else 'black')\n",
        "plt.show()"
      ],
      "execution_count": 48,
      "outputs": [
        {
          "output_type": "stream",
          "text": [
            "Confusion matrix:\n",
            " [[1526  300]\n",
            " [ 216 1700]]\n"
          ],
          "name": "stdout"
        },
        {
          "output_type": "display_data",
          "data": {
            "image/png": "[encoded data removed]",
            "text/plain": [
              "<Figure size 720x576 with 2 Axes>"
            ]
          },
          "metadata": {
            "tags": [],
            "needs_background": "light"
          }
        }
      ]
    },
    {
      "cell_type": "code",
      "metadata": {
        "id": "6G5u_0_wxKPB"
      },
      "source": [
        ""
      ],
      "execution_count": null,
      "outputs": []
    },
    {
      "cell_type": "code",
      "metadata": {
        "id": "KmYEF4PHxKVr"
      },
      "source": [
        ""
      ],
      "execution_count": null,
      "outputs": []
    },
    {
      "cell_type": "code",
      "metadata": {
        "id": "KNUieOqeEQwp"
      },
      "source": [
        "import numpy as np\n",
        "import pandas as pd\n",
        "import matplotlib.pyplot as plt\n"
      ],
      "execution_count": null,
      "outputs": []
    },
    {
      "cell_type": "markdown",
      "metadata": {
        "id": "cBAbmFcSnyq_"
      },
      "source": [
        "  **Plot Loss functions and model Accuracy¶**"
      ]
    },
    {
      "cell_type": "code",
      "metadata": {
        "colab": {
          "base_uri": "https://localhost:8080/",
          "height": 895
        },
        "id": "QSogr-fZoXv0",
        "outputId": "81bbfb7f-29d9-4d2e-ea6f-09c8861a2b50"
      },
      "source": [
        "plt.figure(figsize=(10,7))\n",
        "plt.plot(history.history['loss'])\n",
        "plt.plot(history.history['val_loss'])\n",
        "plt.title('Model Loss', fontsize = 10)\n",
        "plt.ylabel('Loss', fontsize = 10)\n",
        "plt.xlabel('Epoch', fontsize = 10)\n",
        "plt.legend(['Train', 'Validation'], fontsize = 10)\n",
        "plt.show()\n",
        "\n",
        "plt.figure(figsize=(10,7))\n",
        "plt.plot(history.history['binary_accuracy'])\n",
        "plt.plot(history.history['val_binary_accuracy'])\n",
        "plt.title('Model Accuracy', fontsize = 10)\n",
        "plt.ylabel('Accuracy', fontsize = 10)\n",
        "plt.xlabel('Epoch', fontsize = 10)\n",
        "plt.legend(['Train', 'Validation'], fontsize = 10)\n",
        "plt.show()"
      ],
      "execution_count": null,
      "outputs": [
        {
          "output_type": "display_data",
          "data": {
            "image/png": "[encoded data removed]",
            "text/plain": [
              "<Figure size 720x504 with 1 Axes>"
            ]
          },
          "metadata": {
            "tags": [],
            "needs_background": "light"
          }
        },
        {
          "output_type": "display_data",
          "data": {
            "image/png": "[encoded data removed]",
            "text/plain": [
              "<Figure size 720x504 with 1 Axes>"
            ]
          },
          "metadata": {
            "tags": [],
            "needs_background": "light"
          }
        }
      ]
    }
  ]
}